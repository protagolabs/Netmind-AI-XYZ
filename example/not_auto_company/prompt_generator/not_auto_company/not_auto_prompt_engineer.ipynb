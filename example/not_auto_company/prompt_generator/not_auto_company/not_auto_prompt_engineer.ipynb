{
 "cells": [
  {
   "cell_type": "markdown",
   "metadata": {},
   "source": [
    "## Auto Math Company Example"
   ]
  },
  {
   "cell_type": "code",
   "execution_count": 1,
   "metadata": {},
   "outputs": [],
   "source": [
    "\"\"\"\n",
    "===============\n",
    "NotAutoPromptEngineer\n",
    "===============\n",
    "@file_name: not_auto_prompt_engineer.py\n",
    "@author: Tianlei Shi\n",
    "@date: 2024-04-24\n",
    "\n",
    "\"\"\"\n",
    "\n",
    "import sys\n",
    "\n",
    "sys.path.append(\"../../../..\")\n",
    "from xyz.utils.llm.openai_client import OpenAIClient\n",
    "\n",
    "sys.path.append(\"../\")\n",
    "\n",
    "from agents.gpt_prompt_engineer import GPTPromptEngineer\n",
    "from agents.prompts_sorter import PromptsSorter\n"
   ]
  },
  {
   "cell_type": "markdown",
   "metadata": {},
   "source": [
    "Create the agents and combain them in the auto company"
   ]
  },
  {
   "cell_type": "code",
   "execution_count": 2,
   "metadata": {},
   "outputs": [],
   "source": [
    "llm_generator_client = OpenAIClient(model=\"gpt-4-turbo\", temperature=0.9, n=5)\n",
    "llm_generation_client = OpenAIClient(model=\"gpt-4-turbo\", max_tokens=60, temperature=0.8)\n",
    "llm_score_client = OpenAIClient(model=\"gpt-4-turbo\", max_tokens=1, temperature=0.5, logit_bias={\n",
    "        '32': 100,  # 'A' token\n",
    "        '33': 100,  # 'B' token\n",
    "    })\n",
    "\n",
    "prompt_generator = GPTPromptEngineer(llm_generator_client)\n",
    "prompt_sorter = PromptsSorter(llm_generation_client, llm_score_client, 32)\n"
   ]
  },
  {
   "cell_type": "code",
   "execution_count": 3,
   "metadata": {},
   "outputs": [],
   "source": [
    "description = \"Given a prompt, generate a landing page headline.\"\n",
    "\n",
    "use_cases = [\n",
    "    {\n",
    "        'prompt': 'Promoting an innovative new fitness app, Smartly',\n",
    "    },\n",
    "    {\n",
    "        'prompt': 'Why a vegan diet is beneficial for your health',\n",
    "    },\n",
    "    {\n",
    "        'prompt': 'Introducing a new online course on digital marketing',\n",
    "    },\n",
    "    {\n",
    "        'prompt': 'Launching a new line of eco-friendly clothing',\n",
    "    },\n",
    "    {\n",
    "        'prompt': 'Promoting a new travel blog focusing on budget travel',\n",
    "    },\n",
    "    {\n",
    "        'prompt': 'Advertising a new software for efficient project management',\n",
    "    },\n",
    "    {\n",
    "        'prompt': 'Introducing a new book on mastering Python programming',\n",
    "    },\n",
    "    {\n",
    "        'prompt': 'Promoting a new online platform for learning languages',\n",
    "    },\n",
    "    {\n",
    "        'prompt': 'Advertising a new service for personalized meal plans',\n",
    "    },\n",
    "    {\n",
    "        'prompt': 'Launching a new app for mental health and mindfulness',\n",
    "    }\n",
    "]"
   ]
  },
  {
   "cell_type": "code",
   "execution_count": 4,
   "metadata": {},
   "outputs": [
    {
     "data": {
      "text/plain": [
       "['Create a captivating headline for a landing page based on the given topic of promotion or introduction.',\n",
       " 'Write a compelling and concise headline for a landing page based on the given product or service described in the prompt, ensuring it captures the essence and main benefits to immediately grab the attention of potential customers.',\n",
       " 'Craft a captivating and concise headline for a landing page based on the given topic that effectively grabs attention and highlights the main value or unique selling point of the product, service, or content being promoted.',\n",
       " 'Generate a compelling headline for a landing page based on the given subject, ensuring it is engaging and succinctly describes the core offering or benefit.',\n",
       " 'Create a catchy and engaging headline for a landing page based on the given product or service description. Your headline should be concise, attention-grabbing, and should effectively communicate the unique selling point of the product or service.']"
      ]
     },
     "execution_count": 4,
     "metadata": {},
     "output_type": "execute_result"
    }
   ],
   "source": [
    "prompts = prompt_generator(test_cases=use_cases, description=description)\n",
    "prompts"
   ]
  },
  {
   "cell_type": "code",
   "execution_count": 5,
   "metadata": {},
   "outputs": [
    {
     "name": "stderr",
     "output_type": "stream",
     "text": [
      "  2%|▋                                | 2/100 [00:06<04:59,  3.06s/it]"
     ]
    },
    {
     "name": "stdout",
     "output_type": "stream",
     "text": [
      "Winner: Create a captivating headline for a landing page based on the given topic of promotion or introduction.\n"
     ]
    },
    {
     "name": "stderr",
     "output_type": "stream",
     "text": [
      "  3%|▉                                | 3/100 [00:09<05:27,  3.38s/it]"
     ]
    },
    {
     "name": "stdout",
     "output_type": "stream",
     "text": [
      "Winner: Create a captivating headline for a landing page based on the given topic of promotion or introduction.\n"
     ]
    },
    {
     "name": "stderr",
     "output_type": "stream",
     "text": [
      "  4%|█▎                               | 4/100 [00:15<06:36,  4.13s/it]"
     ]
    },
    {
     "name": "stdout",
     "output_type": "stream",
     "text": [
      "Draw\n"
     ]
    }
   ],
   "source": [
    "comparison = prompt_sorter(test_cases=use_cases, description=description, prompts=prompts)\n",
    "comparison"
   ]
  },
  {
   "cell_type": "code",
   "execution_count": null,
   "metadata": {},
   "outputs": [],
   "source": [
    "print(\"\\nWinner: \\n\")\n",
    "print(comparison._rows[0][0])"
   ]
  }
 ],
 "metadata": {
  "kernelspec": {
   "display_name": "bs_agent",
   "language": "python",
   "name": "python3"
  },
  "language_info": {
   "codemirror_mode": {
    "name": "ipython",
    "version": 3
   },
   "file_extension": ".py",
   "mimetype": "text/x-python",
   "name": "python",
   "nbconvert_exporter": "python",
   "pygments_lexer": "ipython3",
   "version": "3.10.13"
  }
 },
 "nbformat": 4,
 "nbformat_minor": 2
}
